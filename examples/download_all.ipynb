{
 "cells": [
  {
   "cell_type": "markdown",
   "id": "b779c05c-13ca-4281-b527-5ed36d3c28e7",
   "metadata": {},
   "source": [
    "## Download all posts and comments from Sunbelt"
   ]
  },
  {
   "cell_type": "code",
   "execution_count": 1,
   "id": "444bc2c7-a92d-4214-9b4c-3a02679d9bef",
   "metadata": {},
   "outputs": [],
   "source": [
    "# Install sawp if it is not already installed\n",
    "# pip install sawp"
   ]
  },
  {
   "cell_type": "code",
   "execution_count": 2,
   "id": "f5fd0541-acd0-4622-9631-59ece522cb02",
   "metadata": {},
   "outputs": [],
   "source": [
    "from sawp import SunbeltClient\n",
    "\n",
    "sunbelt = SunbeltClient()"
   ]
  },
  {
   "cell_type": "markdown",
   "id": "953f45f7-16c1-4086-bbd7-027196aa0a89",
   "metadata": {},
   "source": [
    "Sunbelt utilizes a GraphQL API to enable users to make fast queries for only the data they need. If you want to explore everything that's available, you can use these lists of all available fields. Everything in sunbelt has a sun_id and a reddit_id. The reddit_id represents the object's \"fullname\" from reddit, and the sun_id is an internal id created by the Sunbelt database. Non primary sun_ids may not be available in early-access."
   ]
  },
  {
   "cell_type": "code",
   "execution_count": 3,
   "id": "6480abfd-a217-47a0-aeef-3e0f4873d51d",
   "metadata": {},
   "outputs": [],
   "source": [
    "all_post_fields = ['sun_post_id',\n",
    "                    'reddit_post_id',\n",
    "                    'reddit_account_id',\n",
    "                    'reddit_subreddit_id',\n",
    "                    'sun_account_id',\n",
    "                    'sun_subreddit_id',\n",
    "                    'title',\n",
    "                    'permalink' ,\n",
    "                    'deleted' ,\n",
    "                    'edited' ,\n",
    "                    'removed',\n",
    "                    'score',\n",
    "                    'selftext' ,\n",
    "                    'ups' ,\n",
    "                    'downs' ,\n",
    "                    'upvote_ratio' ,\n",
    "                    'created_utc' ,\n",
    "                    'num_comments'\n",
    "                    ]\n",
    "\n",
    "all_comment_fields = ['sun_comment_id',\n",
    "                    'sun_post_id',\n",
    "                    'sun_subreddit_id',\n",
    "                    'sun_account_id',\n",
    "                    'reddit_comment_id',\n",
    "                    'reddit_parent_id',\n",
    "                    'reddit_post_id',\n",
    "                    'reddit_subreddit_id',\n",
    "                    'reddit_account_id',\n",
    "                    'created_utc',\n",
    "                    'depth',\n",
    "                    'permalink',\n",
    "                    'is_submitter',\n",
    "                    'created_utc',\n",
    "                    'controversiality',\n",
    "                    'ups',\n",
    "                    'downs',\n",
    "                    'score',\n",
    "                    'body',\n",
    "                    'edited',\n",
    "                    'removed',\n",
    "                    'deleted',\n",
    "                    'author_cakeday',\n",
    "                    'author_has_subscribed',\n",
    "                    'author_is_mod',\n",
    "                    'comment_type',\n",
    "                    'author_flair_type',\n",
    "                    'total_awards_received',\n",
    "                    'author_flair_template_id',\n",
    "                    'mod_reason_title',\n",
    "                    'gilded',\n",
    "                    'archived']"
   ]
  },
  {
   "cell_type": "markdown",
   "id": "7cfcd9ff-02bd-4966-bb5a-c3862550de07",
   "metadata": {},
   "source": [
    "Using the lists of all fields, use the sunbelt client to download all posts and comments. They will load in batches of 10000."
   ]
  },
  {
   "cell_type": "code",
   "execution_count": 4,
   "id": "ea3ab884-c9c5-4052-9c7b-0f2950e0b6a0",
   "metadata": {},
   "outputs": [
    {
     "name": "stdout",
     "output_type": "stream",
     "text": [
      " Total 34747 posts:\n",
      " 34747  loaded"
     ]
    }
   ],
   "source": [
    "posts = sunbelt.posts.all(fields = all_post_fields)"
   ]
  },
  {
   "cell_type": "code",
   "execution_count": 5,
   "id": "0c640122-0f2d-418a-aeb1-8f7fa24da3ee",
   "metadata": {},
   "outputs": [
    {
     "name": "stdout",
     "output_type": "stream",
     "text": [
      " Total 161410 comments:\n",
      " 161410  loaded"
     ]
    }
   ],
   "source": [
    "comments = sunbelt.comments.all(fields = all_comment_fields)"
   ]
  },
  {
   "cell_type": "markdown",
   "id": "ea4a45fe-b911-4cc4-957e-070c532a08b9",
   "metadata": {},
   "source": [
    "The sunbelt client has returned list of sun objects. Try exploring the attributes of the sun objects. "
   ]
  },
  {
   "cell_type": "code",
   "execution_count": 6,
   "id": "a05a18ce-fd25-4359-8d16-09d38c9c50b2",
   "metadata": {},
   "outputs": [
    {
     "data": {
      "text/plain": [
       "2"
      ]
     },
     "execution_count": 6,
     "metadata": {},
     "output_type": "execute_result"
    }
   ],
   "source": [
    "post = posts[0]\n",
    "post.score"
   ]
  },
  {
   "cell_type": "code",
   "execution_count": 7,
   "id": "9fc460bb-6133-4b58-b7cd-9ee66cbb88a8",
   "metadata": {},
   "outputs": [
    {
     "data": {
      "text/plain": [
       "'What was the happiest moment that you have experienced so far in your life?'"
      ]
     },
     "execution_count": 7,
     "metadata": {},
     "output_type": "execute_result"
    }
   ],
   "source": [
    "post.title"
   ]
  },
  {
   "cell_type": "code",
   "execution_count": 8,
   "id": "ceef20b3-675d-411a-a99e-4c13162dda77",
   "metadata": {},
   "outputs": [
    {
     "data": {
      "text/plain": [
       "'and then you still pay $100/month to watch ads every other minute'"
      ]
     },
     "execution_count": 8,
     "metadata": {},
     "output_type": "execute_result"
    }
   ],
   "source": [
    "comment = comments[10]\n",
    "comment.body"
   ]
  },
  {
   "cell_type": "markdown",
   "id": "9ec98f16-f548-448e-9a73-e093b560acdc",
   "metadata": {},
   "source": [
    "## Exporting"
   ]
  },
  {
   "cell_type": "markdown",
   "id": "6914936b-6db3-4e09-9f7c-56ad00db68b9",
   "metadata": {},
   "source": [
    "You can use the .to_dict method to export the data from sun objects to somewhere else."
   ]
  },
  {
   "cell_type": "code",
   "execution_count": 9,
   "id": "feae0f3a-bb6c-48e5-86c7-d02c7f8b022f",
   "metadata": {},
   "outputs": [],
   "source": [
    "import pandas as pd"
   ]
  },
  {
   "cell_type": "code",
   "execution_count": 10,
   "id": "c2618454-0559-4fe5-9342-6287d5501282",
   "metadata": {},
   "outputs": [
    {
     "data": {
      "text/html": [
       "<div>\n",
       "<style scoped>\n",
       "    .dataframe tbody tr th:only-of-type {\n",
       "        vertical-align: middle;\n",
       "    }\n",
       "\n",
       "    .dataframe tbody tr th {\n",
       "        vertical-align: top;\n",
       "    }\n",
       "\n",
       "    .dataframe thead th {\n",
       "        text-align: right;\n",
       "    }\n",
       "</style>\n",
       "<table border=\"1\" class=\"dataframe\">\n",
       "  <thead>\n",
       "    <tr style=\"text-align: right;\">\n",
       "      <th></th>\n",
       "      <th>kind</th>\n",
       "      <th>uid</th>\n",
       "      <th>created_utc</th>\n",
       "      <th>deleted</th>\n",
       "      <th>downs</th>\n",
       "      <th>edited</th>\n",
       "      <th>num_comments</th>\n",
       "      <th>permalink</th>\n",
       "      <th>reddit_account_id</th>\n",
       "      <th>reddit_post_id</th>\n",
       "      <th>reddit_subreddit_id</th>\n",
       "      <th>removed</th>\n",
       "      <th>score</th>\n",
       "      <th>selftext</th>\n",
       "      <th>sun_account_id</th>\n",
       "      <th>sun_post_id</th>\n",
       "      <th>sun_subreddit_id</th>\n",
       "      <th>title</th>\n",
       "      <th>ups</th>\n",
       "      <th>upvote_ratio</th>\n",
       "    </tr>\n",
       "  </thead>\n",
       "  <tbody>\n",
       "    <tr>\n",
       "      <th>0</th>\n",
       "      <td>post</td>\n",
       "      <td>2585643</td>\n",
       "      <td>1.676701e+09</td>\n",
       "      <td>False</td>\n",
       "      <td>0</td>\n",
       "      <td>False</td>\n",
       "      <td>2</td>\n",
       "      <td>/r/AskReddit/comments/1158n8i/what_was_the_hap...</td>\n",
       "      <td>t2_vxtgoy2l</td>\n",
       "      <td>t3_1158n8i</td>\n",
       "      <td>t5_2qh1i</td>\n",
       "      <td>False</td>\n",
       "      <td>2</td>\n",
       "      <td></td>\n",
       "      <td>None</td>\n",
       "      <td>2585643</td>\n",
       "      <td>None</td>\n",
       "      <td>What was the happiest moment that you have exp...</td>\n",
       "      <td>2</td>\n",
       "      <td>1.00</td>\n",
       "    </tr>\n",
       "    <tr>\n",
       "      <th>1</th>\n",
       "      <td>post</td>\n",
       "      <td>2585804</td>\n",
       "      <td>1.676701e+09</td>\n",
       "      <td>False</td>\n",
       "      <td>0</td>\n",
       "      <td>False</td>\n",
       "      <td>1</td>\n",
       "      <td>/r/AskReddit/comments/1158nzr/whats_do_you_do_...</td>\n",
       "      <td>t2_ipktjdfd</td>\n",
       "      <td>t3_1158nzr</td>\n",
       "      <td>t5_2qh1i</td>\n",
       "      <td>False</td>\n",
       "      <td>1</td>\n",
       "      <td></td>\n",
       "      <td>None</td>\n",
       "      <td>2585804</td>\n",
       "      <td>None</td>\n",
       "      <td>What’s do you do on your Night Shifts?</td>\n",
       "      <td>1</td>\n",
       "      <td>1.00</td>\n",
       "    </tr>\n",
       "    <tr>\n",
       "      <th>2</th>\n",
       "      <td>post</td>\n",
       "      <td>2586011</td>\n",
       "      <td>1.676701e+09</td>\n",
       "      <td>False</td>\n",
       "      <td>0</td>\n",
       "      <td>False</td>\n",
       "      <td>9</td>\n",
       "      <td>/r/AskReddit/comments/1158osd/whats_an_excuse_...</td>\n",
       "      <td>t2_nqwe9xy2</td>\n",
       "      <td>t3_1158osd</td>\n",
       "      <td>t5_2qh1i</td>\n",
       "      <td>False</td>\n",
       "      <td>2</td>\n",
       "      <td></td>\n",
       "      <td>None</td>\n",
       "      <td>2586011</td>\n",
       "      <td>None</td>\n",
       "      <td>What’s an excuse to leave class early?</td>\n",
       "      <td>2</td>\n",
       "      <td>0.75</td>\n",
       "    </tr>\n",
       "    <tr>\n",
       "      <th>3</th>\n",
       "      <td>post</td>\n",
       "      <td>2586290</td>\n",
       "      <td>1.676701e+09</td>\n",
       "      <td>False</td>\n",
       "      <td>0</td>\n",
       "      <td>False</td>\n",
       "      <td>4</td>\n",
       "      <td>/r/AskReddit/comments/1158q9r/what_are_the_way...</td>\n",
       "      <td>t2_vk5xll29</td>\n",
       "      <td>t3_1158q9r</td>\n",
       "      <td>t5_2qh1i</td>\n",
       "      <td>False</td>\n",
       "      <td>1</td>\n",
       "      <td></td>\n",
       "      <td>None</td>\n",
       "      <td>2586290</td>\n",
       "      <td>None</td>\n",
       "      <td>What are the ways in which Valentine's Day is ...</td>\n",
       "      <td>1</td>\n",
       "      <td>1.00</td>\n",
       "    </tr>\n",
       "    <tr>\n",
       "      <th>4</th>\n",
       "      <td>post</td>\n",
       "      <td>2586306</td>\n",
       "      <td>1.676701e+09</td>\n",
       "      <td>False</td>\n",
       "      <td>0</td>\n",
       "      <td>False</td>\n",
       "      <td>2</td>\n",
       "      <td>/r/AskReddit/comments/1158qac/outdoorsmenworke...</td>\n",
       "      <td>t2_tji9xp8p</td>\n",
       "      <td>t3_1158qac</td>\n",
       "      <td>t5_2qh1i</td>\n",
       "      <td>False</td>\n",
       "      <td>2</td>\n",
       "      <td></td>\n",
       "      <td>None</td>\n",
       "      <td>2586306</td>\n",
       "      <td>None</td>\n",
       "      <td>Outdoorsmen/workers, what is your most fearful...</td>\n",
       "      <td>2</td>\n",
       "      <td>1.00</td>\n",
       "    </tr>\n",
       "  </tbody>\n",
       "</table>\n",
       "</div>"
      ],
      "text/plain": [
       "   kind      uid   created_utc  deleted  downs  edited  num_comments  \\\n",
       "0  post  2585643  1.676701e+09    False      0   False             2   \n",
       "1  post  2585804  1.676701e+09    False      0   False             1   \n",
       "2  post  2586011  1.676701e+09    False      0   False             9   \n",
       "3  post  2586290  1.676701e+09    False      0   False             4   \n",
       "4  post  2586306  1.676701e+09    False      0   False             2   \n",
       "\n",
       "                                           permalink reddit_account_id  \\\n",
       "0  /r/AskReddit/comments/1158n8i/what_was_the_hap...       t2_vxtgoy2l   \n",
       "1  /r/AskReddit/comments/1158nzr/whats_do_you_do_...       t2_ipktjdfd   \n",
       "2  /r/AskReddit/comments/1158osd/whats_an_excuse_...       t2_nqwe9xy2   \n",
       "3  /r/AskReddit/comments/1158q9r/what_are_the_way...       t2_vk5xll29   \n",
       "4  /r/AskReddit/comments/1158qac/outdoorsmenworke...       t2_tji9xp8p   \n",
       "\n",
       "  reddit_post_id reddit_subreddit_id  removed  score selftext sun_account_id  \\\n",
       "0     t3_1158n8i            t5_2qh1i    False      2                    None   \n",
       "1     t3_1158nzr            t5_2qh1i    False      1                    None   \n",
       "2     t3_1158osd            t5_2qh1i    False      2                    None   \n",
       "3     t3_1158q9r            t5_2qh1i    False      1                    None   \n",
       "4     t3_1158qac            t5_2qh1i    False      2                    None   \n",
       "\n",
       "   sun_post_id sun_subreddit_id  \\\n",
       "0      2585643             None   \n",
       "1      2585804             None   \n",
       "2      2586011             None   \n",
       "3      2586290             None   \n",
       "4      2586306             None   \n",
       "\n",
       "                                               title  ups  upvote_ratio  \n",
       "0  What was the happiest moment that you have exp...    2          1.00  \n",
       "1             What’s do you do on your Night Shifts?    1          1.00  \n",
       "2             What’s an excuse to leave class early?    2          0.75  \n",
       "3  What are the ways in which Valentine's Day is ...    1          1.00  \n",
       "4  Outdoorsmen/workers, what is your most fearful...    2          1.00  "
      ]
     },
     "execution_count": 10,
     "metadata": {},
     "output_type": "execute_result"
    }
   ],
   "source": [
    "df = pd.DataFrame(x.to_dict() for x in posts)\n",
    "df.head()"
   ]
  }
 ],
 "metadata": {
  "kernelspec": {
   "display_name": "Python 3 (ipykernel)",
   "language": "python",
   "name": "python3"
  },
  "language_info": {
   "codemirror_mode": {
    "name": "ipython",
    "version": 3
   },
   "file_extension": ".py",
   "mimetype": "text/x-python",
   "name": "python",
   "nbconvert_exporter": "python",
   "pygments_lexer": "ipython3",
   "version": "3.9.13"
  }
 },
 "nbformat": 4,
 "nbformat_minor": 5
}
