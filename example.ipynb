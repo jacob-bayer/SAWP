{
 "cells": [
  {
   "attachments": {},
   "cell_type": "markdown",
   "metadata": {},
   "source": [
    "# SAWP: Sunbelt API Wrapper for Python\n",
    "Author: Jacob Bayer"
   ]
  },
  {
   "attachments": {},
   "cell_type": "markdown",
   "metadata": {},
   "source": [
    "##### Introduction\n",
    "Sunbelt is a database that stores information mined from Reddit. Unlike other services such as Pushshift and Reveddit, which store data on posts and comments immediately after they are posted (Pushshift), or create a new way for users to see live data on Reddit (Reveddit), Sunbelt stores information about how posts, comments, redditors, and subreddits have changed over time. \n",
    "\n",
    "**Sunbelt is the only service that does this** *(as far as I know)*, but it is still in a very early stage of development and does not have data at the same scale as Pushshift.\n", 
    "\n",
    "To start using Sunbelt, install the [Sunbelt API Wrapper for Python (SAWP)](https://pypi.org/project/sawp/) by running \n",
    "\n",
    "` pip install sawp `\n",
    "\n",
    "Then import and instantiate the SunbeltClient from SAWP as follows."
   ]
  },
  {
   "cell_type": "code",
   "execution_count": 4,
   "metadata": {},
   "outputs": [],
   "source": [
    "from sawp import SunbeltClient\n",
    "sunbelt = SunbeltClient()"
   ]
  },
  {
   "attachments": {},
   "cell_type": "markdown",
   "metadata": {},
   "source": [
    "SAWP enables a user to query the Sunbelt database using a GraphQL API. In this example, I select the first post in the Sunbelt database.\n",
    "\n",
    "Posts stored in the Sunbelt database are called \"SunPosts\" to differentiate them from other reddit objects you may be analyzing (for example PRAW Submissions)."
   ]
  },
  {
   "cell_type": "code",
   "execution_count": 28,
   "metadata": {},
   "outputs": [
    {
     "data": {
      "text/plain": [
       "SunPost(1)"
      ]
     },
     "execution_count": 28,
     "metadata": {},
     "output_type": "execute_result"
    }
   ],
   "source": [
    "post = sunbelt.posts.first()\n",
    "post"
   ]
  },
  {
   "attachments": {},
   "cell_type": "markdown",
   "metadata": {},
   "source": [
    "The SunPost object can be used to access attributes of the post.\n"
   ]
  },
  {
   "cell_type": "code",
   "execution_count": 29,
   "metadata": {},
   "outputs": [
    {
     "data": {
      "text/plain": [
       "'/r/AskReddit/comments/10kzboh/happy_birthday_askreddit/'"
      ]
     },
     "execution_count": 29,
     "metadata": {},
     "output_type": "execute_result"
    }
   ],
   "source": [
    "post.permalink"
   ]
  },
  {
   "cell_type": "code",
   "execution_count": 30,
   "metadata": {},
   "outputs": [
    {
     "data": {
      "text/plain": [
       "'Happy Birthday AskReddit!'"
      ]
     },
     "execution_count": 30,
     "metadata": {},
     "output_type": "execute_result"
    }
   ],
   "source": [
    "post.title"
   ]
  },
  {
   "attachments": {},
   "cell_type": "markdown",
   "metadata": {},
   "source": [
    "We can list the comments for this post using the post.comments attribute."
   ]
  },
  {
   "cell_type": "code",
   "execution_count": 8,
   "metadata": {},
   "outputs": [
    {
     "data": {
      "text/plain": [
       "[SunComment(1),\n",
       " SunComment(2),\n",
       " SunComment(3),\n",
       " SunComment(4),\n",
       " SunComment(5),\n",
       " SunComment(6),\n",
       " SunComment(7),\n",
       " SunComment(8),\n",
       " SunComment(9),\n",
       " SunComment(10),\n",
       " SunComment(11),\n",
       " SunComment(12),\n",
       " SunComment(13),\n",
       " SunComment(14),\n",
       " SunComment(15),\n",
       " SunComment(16),\n",
       " SunComment(17),\n",
       " SunComment(18),\n",
       " SunComment(19),\n",
       " SunComment(20),\n",
       " SunComment(21),\n",
       " SunComment(22),\n",
       " SunComment(23),\n",
       " SunComment(24),\n",
       " SunComment(25),\n",
       " SunComment(26),\n",
       " SunComment(27),\n",
       " SunComment(28),\n",
       " SunComment(29),\n",
       " SunComment(30),\n",
       " SunComment(31),\n",
       " SunComment(32),\n",
       " SunComment(33),\n",
       " SunComment(34),\n",
       " SunComment(35),\n",
       " SunComment(36),\n",
       " SunComment(37),\n",
       " SunComment(38),\n",
       " SunComment(40),\n",
       " SunComment(46),\n",
       " SunComment(47),\n",
       " SunComment(39),\n",
       " SunComment(41),\n",
       " SunComment(42),\n",
       " SunComment(43),\n",
       " SunComment(44),\n",
       " SunComment(45),\n",
       " SunComment(48),\n",
       " SunComment(49),\n",
       " SunComment(50)]"
      ]
     },
     "execution_count": 8,
     "metadata": {},
     "output_type": "execute_result"
    }
   ],
   "source": [
    "post.comments"
   ]
  },
  {
   "attachments": {},
   "cell_type": "markdown",
   "metadata": {},
   "source": [
    "Sunbelt stores multiple versions of data for any given object, representing different times that the SunCrawler saw the entity on Reddit. These versions describe the non-permanent attributes of an object such as upvotes, karma, or subreddit subscribers.\n",
    "\n",
    "Let's take a look at how many versions we have for a comment on SunPost(2)."
   ]
  },
  {
   "cell_type": "code",
   "execution_count": 14,
   "metadata": {},
   "outputs": [
    {
     "data": {
      "text/plain": [
       "SunComment(59)"
      ]
     },
     "execution_count": 14,
     "metadata": {},
     "output_type": "execute_result"
    }
   ],
   "source": [
    "post = sunbelt.posts.get(2)\n",
    "comment = post.comments[3]\n",
    "comment"
   ]
  },
  {
   "cell_type": "code",
   "execution_count": 15,
   "metadata": {},
   "outputs": [
    {
     "data": {
      "text/plain": [
       "[CommentVersion(SunComment = 59 , SunVersion = 1),\n",
       " CommentVersion(SunComment = 59 , SunVersion = 2)]"
      ]
     },
     "execution_count": 15,
     "metadata": {},
     "output_type": "execute_result"
    }
   ],
   "source": [
    "comment.versions"
   ]
  },
  {
   "attachments": {},
   "cell_type": "markdown",
   "metadata": {},
   "source": [
    "Let's look at some of the version data."
   ]
  },
  {
   "cell_type": "code",
   "execution_count": 16,
   "metadata": {},
   "outputs": [
    {
     "name": "stdout",
     "output_type": "stream",
     "text": [
      "\n",
      " Upvotes over time for Comment: t1_j5t0ysc \n",
      "\n",
      "22389 upvotes at 25-01-2023 18:06:12\n",
      "24792 upvotes at 26-01-2023 14:45:14\n"
     ]
    }
   ],
   "source": [
    "print('\\n Upvotes over time for Comment:', comment.reddit_comment_id, '\\n')\n",
    "for v in comment.versions:\n",
    "    print(v.ups, 'upvotes at', v.sun_created_at)"
   ]
  },
  {
   "attachments": {},
   "cell_type": "markdown",
   "metadata": {},
   "source": [
    "By looking at the comment body text of each version, we can see that this comment has been deleted by the author."
   ]
  },
  {
   "cell_type": "code",
   "execution_count": 19,
   "metadata": {},
   "outputs": [
    {
     "data": {
      "text/plain": [
       "['Being a YouTube \"prankster\"', '[deleted]']"
      ]
     },
     "execution_count": 19,
     "metadata": {},
     "output_type": "execute_result"
    }
   ],
   "source": [
    "[x.body for x in comment.versions]"
   ]
  },
  {
   "attachments": {},
   "cell_type": "markdown",
   "metadata": {},
   "source": [
    "The details from the most recent version of any object are also stored as attributes with the \"most_recent_\" prefix."
   ]
  },
  {
   "cell_type": "code",
   "execution_count": 22,
   "metadata": {},
   "outputs": [
    {
     "name": "stdout",
     "output_type": "stream",
     "text": [
      "24792\n",
      "[deleted]\n"
     ]
    }
   ],
   "source": [
    "print(comment.most_recent_ups)\n",
    "print(comment.most_recent_body)"
   ]
  },
  {
   "attachments": {},
   "cell_type": "markdown",
   "metadata": {},
   "source": [
    "#### Sunbelt to Pandas"
   ]
  },
  {
   "attachments": {},
   "cell_type": "markdown",
   "metadata": {},
   "source": [
    "Sunbelt uses a GraphQL API to query only the data specifically requested by the user. When a Sun object is first initalized by SAWP, it contains only bare minimum of information necessary to initialize the object unless additional information is specifically requested by the user. When an attribute is requested, a new API call is made to obtain that attribute from the database. A batch request for many attributes can be made by passing the requested attributes as arguments."
   ]
  },
  {
   "cell_type": "code",
   "execution_count": 33,
   "metadata": {},
   "outputs": [],
   "source": [
    "all_comments = sunbelt.comments.all(# Requested fields can be passed as args\n",
    "                                 'sun_post_id',\n",
    "                                 'sun_comment_id',\n",
    "                                 'reddit_post_id',\n",
    "                                 'reddit_comment_id',\n",
    "                                 'reddit_parent_id',\n",
    "                                 'most_recent_body',\n",
    "                                 'most_recent_ups',\n",
    "                                 'most_recent_downs',\n",
    "                                 'created_utc',\n",
    "                                 'most_recent_edited',\n",
    "                                 'most_recent_gilded',\n",
    "                                 'depth')"
   ]
  },
  {
   "attachments": {},
   "cell_type": "markdown",
   "metadata": {},
   "source": [
    "Sunbelt objects have a useful to_dict method, which can be used to create a pandas dataframe."
   ]
  },
  {
   "cell_type": "code",
   "execution_count": 25,
   "metadata": {},
   "outputs": [
    {
     "data": {
      "text/plain": [
       "{'kind': 'comment',\n",
       " 'uid': 1,\n",
       " 'created_utc': 1674655786.0,\n",
       " 'depth': '0',\n",
       " 'most_recent_body': \"Happy birthday to the world's internet town square.\",\n",
       " 'most_recent_downs': 0,\n",
       " 'most_recent_edited': 0,\n",
       " 'most_recent_gilded': '0',\n",
       " 'most_recent_ups': 28,\n",
       " 'reddit_comment_id': 't1_j5tm5b1',\n",
       " 'reddit_parent_id': None,\n",
       " 'reddit_post_id': 't3_10kzboh',\n",
       " 'sun_comment_id': '1',\n",
       " 'sun_post_id': 1,\n",
       " 'sun_unique_id': 1}"
      ]
     },
     "execution_count": 25,
     "metadata": {},
     "output_type": "execute_result"
    }
   ],
   "source": [
    "comment = all_comments[0]\n",
    "comment.to_dict()"
   ]
  },
  {
   "cell_type": "code",
   "execution_count": 35,
   "metadata": {},
   "outputs": [
    {
     "data": {
      "text/html": [
       "<div>\n",
       "<style scoped>\n",
       "    .dataframe tbody tr th:only-of-type {\n",
       "        vertical-align: middle;\n",
       "    }\n",
       "\n",
       "    .dataframe tbody tr th {\n",
       "        vertical-align: top;\n",
       "    }\n",
       "\n",
       "    .dataframe thead th {\n",
       "        text-align: right;\n",
       "    }\n",
       "</style>\n",
       "<table border=\"1\" class=\"dataframe\">\n",
       "  <thead>\n",
       "    <tr style=\"text-align: right;\">\n",
       "      <th></th>\n",
       "      <th>kind</th>\n",
       "      <th>uid</th>\n",
       "      <th>created_utc</th>\n",
       "      <th>depth</th>\n",
       "      <th>most_recent_body</th>\n",
       "      <th>most_recent_downs</th>\n",
       "      <th>most_recent_edited</th>\n",
       "      <th>most_recent_gilded</th>\n",
       "      <th>most_recent_ups</th>\n",
       "      <th>reddit_comment_id</th>\n",
       "      <th>reddit_parent_id</th>\n",
       "      <th>reddit_post_id</th>\n",
       "      <th>sun_comment_id</th>\n",
       "      <th>sun_post_id</th>\n",
       "      <th>sun_unique_id</th>\n",
       "    </tr>\n",
       "  </thead>\n",
       "  <tbody>\n",
       "    <tr>\n",
       "      <th>0</th>\n",
       "      <td>comment</td>\n",
       "      <td>1</td>\n",
       "      <td>1.674656e+09</td>\n",
       "      <td>0</td>\n",
       "      <td>Happy birthday to the world's internet town sq...</td>\n",
       "      <td>0</td>\n",
       "      <td>0</td>\n",
       "      <td>0</td>\n",
       "      <td>28</td>\n",
       "      <td>t1_j5tm5b1</td>\n",
       "      <td>None</td>\n",
       "      <td>t3_10kzboh</td>\n",
       "      <td>1</td>\n",
       "      <td>1</td>\n",
       "      <td>1</td>\n",
       "    </tr>\n",
       "    <tr>\n",
       "      <th>1</th>\n",
       "      <td>comment</td>\n",
       "      <td>2</td>\n",
       "      <td>1.674656e+09</td>\n",
       "      <td>0</td>\n",
       "      <td>ask reddit is aquarius</td>\n",
       "      <td>0</td>\n",
       "      <td>0</td>\n",
       "      <td>0</td>\n",
       "      <td>8</td>\n",
       "      <td>t1_j5tlz13</td>\n",
       "      <td>None</td>\n",
       "      <td>t3_10kzboh</td>\n",
       "      <td>2</td>\n",
       "      <td>1</td>\n",
       "      <td>2</td>\n",
       "    </tr>\n",
       "    <tr>\n",
       "      <th>2</th>\n",
       "      <td>comment</td>\n",
       "      <td>3</td>\n",
       "      <td>1.674655e+09</td>\n",
       "      <td>0</td>\n",
       "      <td>Cool</td>\n",
       "      <td>0</td>\n",
       "      <td>0</td>\n",
       "      <td>0</td>\n",
       "      <td>7</td>\n",
       "      <td>t1_j5tlfri</td>\n",
       "      <td>None</td>\n",
       "      <td>t3_10kzboh</td>\n",
       "      <td>3</td>\n",
       "      <td>1</td>\n",
       "      <td>3</td>\n",
       "    </tr>\n",
       "    <tr>\n",
       "      <th>3</th>\n",
       "      <td>comment</td>\n",
       "      <td>4</td>\n",
       "      <td>1.674658e+09</td>\n",
       "      <td>0</td>\n",
       "      <td>Thanks for being there for 15 years so we coul...</td>\n",
       "      <td>0</td>\n",
       "      <td>0</td>\n",
       "      <td>0</td>\n",
       "      <td>8</td>\n",
       "      <td>t1_j5tq7nj</td>\n",
       "      <td>None</td>\n",
       "      <td>t3_10kzboh</td>\n",
       "      <td>4</td>\n",
       "      <td>1</td>\n",
       "      <td>4</td>\n",
       "    </tr>\n",
       "    <tr>\n",
       "      <th>4</th>\n",
       "      <td>comment</td>\n",
       "      <td>5</td>\n",
       "      <td>1.674656e+09</td>\n",
       "      <td>0</td>\n",
       "      <td>happy birthday reddits most disturbing comment...</td>\n",
       "      <td>0</td>\n",
       "      <td>0</td>\n",
       "      <td>0</td>\n",
       "      <td>8</td>\n",
       "      <td>t1_j5tmm97</td>\n",
       "      <td>None</td>\n",
       "      <td>t3_10kzboh</td>\n",
       "      <td>5</td>\n",
       "      <td>1</td>\n",
       "      <td>5</td>\n",
       "    </tr>\n",
       "    <tr>\n",
       "      <th>...</th>\n",
       "      <td>...</td>\n",
       "      <td>...</td>\n",
       "      <td>...</td>\n",
       "      <td>...</td>\n",
       "      <td>...</td>\n",
       "      <td>...</td>\n",
       "      <td>...</td>\n",
       "      <td>...</td>\n",
       "      <td>...</td>\n",
       "      <td>...</td>\n",
       "      <td>...</td>\n",
       "      <td>...</td>\n",
       "      <td>...</td>\n",
       "      <td>...</td>\n",
       "      <td>...</td>\n",
       "    </tr>\n",
       "    <tr>\n",
       "      <th>655</th>\n",
       "      <td>comment</td>\n",
       "      <td>648</td>\n",
       "      <td>1.674667e+09</td>\n",
       "      <td>0</td>\n",
       "      <td>What a fucking asshole.</td>\n",
       "      <td>0</td>\n",
       "      <td>0</td>\n",
       "      <td>0</td>\n",
       "      <td>1</td>\n",
       "      <td>t1_j5udej5</td>\n",
       "      <td>None</td>\n",
       "      <td>t3_10kzjx3</td>\n",
       "      <td>648</td>\n",
       "      <td>15</td>\n",
       "      <td>648</td>\n",
       "    </tr>\n",
       "    <tr>\n",
       "      <th>656</th>\n",
       "      <td>comment</td>\n",
       "      <td>649</td>\n",
       "      <td>1.674667e+09</td>\n",
       "      <td>0</td>\n",
       "      <td>Yep, like a cancer.</td>\n",
       "      <td>0</td>\n",
       "      <td>0</td>\n",
       "      <td>0</td>\n",
       "      <td>1</td>\n",
       "      <td>t1_j5uf640</td>\n",
       "      <td>None</td>\n",
       "      <td>t3_10kzjx3</td>\n",
       "      <td>649</td>\n",
       "      <td>15</td>\n",
       "      <td>649</td>\n",
       "    </tr>\n",
       "    <tr>\n",
       "      <th>657</th>\n",
       "      <td>comment</td>\n",
       "      <td>650</td>\n",
       "      <td>1.674658e+09</td>\n",
       "      <td>1</td>\n",
       "      <td>I mean if you're a leading religious figure in...</td>\n",
       "      <td>0</td>\n",
       "      <td>0</td>\n",
       "      <td>0</td>\n",
       "      <td>39</td>\n",
       "      <td>t1_j5tselp</td>\n",
       "      <td>None</td>\n",
       "      <td>t3_10kzjx3</td>\n",
       "      <td>650</td>\n",
       "      <td>15</td>\n",
       "      <td>650</td>\n",
       "    </tr>\n",
       "    <tr>\n",
       "      <th>658</th>\n",
       "      <td>comment</td>\n",
       "      <td>655</td>\n",
       "      <td>1.674662e+09</td>\n",
       "      <td>2</td>\n",
       "      <td>Except the ones involving invading your country</td>\n",
       "      <td>0</td>\n",
       "      <td>0</td>\n",
       "      <td>0</td>\n",
       "      <td>11</td>\n",
       "      <td>t1_j5u073l</td>\n",
       "      <td>None</td>\n",
       "      <td>t3_10kzjx3</td>\n",
       "      <td>655</td>\n",
       "      <td>15</td>\n",
       "      <td>655</td>\n",
       "    </tr>\n",
       "    <tr>\n",
       "      <th>659</th>\n",
       "      <td>comment</td>\n",
       "      <td>657</td>\n",
       "      <td>1.674670e+09</td>\n",
       "      <td>2</td>\n",
       "      <td>There are many Islamic movements that aren't c...</td>\n",
       "      <td>0</td>\n",
       "      <td>0</td>\n",
       "      <td>0</td>\n",
       "      <td>1</td>\n",
       "      <td>t1_j5unxzh</td>\n",
       "      <td>None</td>\n",
       "      <td>t3_10kzjx3</td>\n",
       "      <td>657</td>\n",
       "      <td>15</td>\n",
       "      <td>657</td>\n",
       "    </tr>\n",
       "  </tbody>\n",
       "</table>\n",
       "<p>660 rows × 15 columns</p>\n",
       "</div>"
      ],
      "text/plain": [
       "        kind  uid   created_utc depth  \\\n",
       "0    comment    1  1.674656e+09     0   \n",
       "1    comment    2  1.674656e+09     0   \n",
       "2    comment    3  1.674655e+09     0   \n",
       "3    comment    4  1.674658e+09     0   \n",
       "4    comment    5  1.674656e+09     0   \n",
       "..       ...  ...           ...   ...   \n",
       "655  comment  648  1.674667e+09     0   \n",
       "656  comment  649  1.674667e+09     0   \n",
       "657  comment  650  1.674658e+09     1   \n",
       "658  comment  655  1.674662e+09     2   \n",
       "659  comment  657  1.674670e+09     2   \n",
       "\n",
       "                                      most_recent_body  most_recent_downs  \\\n",
       "0    Happy birthday to the world's internet town sq...                  0   \n",
       "1                               ask reddit is aquarius                  0   \n",
       "2                                                 Cool                  0   \n",
       "3    Thanks for being there for 15 years so we coul...                  0   \n",
       "4    happy birthday reddits most disturbing comment...                  0   \n",
       "..                                                 ...                ...   \n",
       "655                            What a fucking asshole.                  0   \n",
       "656                                Yep, like a cancer.                  0   \n",
       "657  I mean if you're a leading religious figure in...                  0   \n",
       "658    Except the ones involving invading your country                  0   \n",
       "659  There are many Islamic movements that aren't c...                  0   \n",
       "\n",
       "     most_recent_edited most_recent_gilded  most_recent_ups reddit_comment_id  \\\n",
       "0                     0                  0               28        t1_j5tm5b1   \n",
       "1                     0                  0                8        t1_j5tlz13   \n",
       "2                     0                  0                7        t1_j5tlfri   \n",
       "3                     0                  0                8        t1_j5tq7nj   \n",
       "4                     0                  0                8        t1_j5tmm97   \n",
       "..                  ...                ...              ...               ...   \n",
       "655                   0                  0                1        t1_j5udej5   \n",
       "656                   0                  0                1        t1_j5uf640   \n",
       "657                   0                  0               39        t1_j5tselp   \n",
       "658                   0                  0               11        t1_j5u073l   \n",
       "659                   0                  0                1        t1_j5unxzh   \n",
       "\n",
       "    reddit_parent_id reddit_post_id sun_comment_id  sun_post_id  sun_unique_id  \n",
       "0               None     t3_10kzboh              1            1              1  \n",
       "1               None     t3_10kzboh              2            1              2  \n",
       "2               None     t3_10kzboh              3            1              3  \n",
       "3               None     t3_10kzboh              4            1              4  \n",
       "4               None     t3_10kzboh              5            1              5  \n",
       "..               ...            ...            ...          ...            ...  \n",
       "655             None     t3_10kzjx3            648           15            648  \n",
       "656             None     t3_10kzjx3            649           15            649  \n",
       "657             None     t3_10kzjx3            650           15            650  \n",
       "658             None     t3_10kzjx3            655           15            655  \n",
       "659             None     t3_10kzjx3            657           15            657  \n",
       "\n",
       "[660 rows x 15 columns]"
      ]
     },
     "execution_count": 35,
     "metadata": {},
     "output_type": "execute_result"
    }
   ],
   "source": [
    "import pandas as pd\n",
    "comments_df = pd.DataFrame(x.to_dict() for x in all_comments)\n",
    "comments_df"
   ]
  }
 ],
 "metadata": {
  "kernelspec": {
   "display_name": "Python 3",
   "language": "python",
   "name": "python3"
  },
  "language_info": {
   "codemirror_mode": {
    "name": "ipython",
    "version": 3
   },
   "file_extension": ".py",
   "mimetype": "text/x-python",
   "name": "python",
   "nbconvert_exporter": "python",
   "pygments_lexer": "ipython3",
   "version": "3.11.1 (main, Dec 23 2022, 09:40:27) [Clang 14.0.0 (clang-1400.0.29.202)]"
  },
  "orig_nbformat": 4,
  "vscode": {
   "interpreter": {
    "hash": "1a1af0ee75eeea9e2e1ee996c87e7a2b11a0bebd85af04bb136d915cefc0abce"
   }
  }
 },
 "nbformat": 4,
 "nbformat_minor": 2
}
